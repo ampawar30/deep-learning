{
 "cells": [
  {
   "cell_type": "code",
   "execution_count": 2,
   "metadata": {},
   "outputs": [
    {
     "name": "stdout",
     "output_type": "stream",
     "text": [
      "['a', 'b', 'c'] [1, 2, 3] {'c': 3, 'a': 1, 'b': 2} [1 2 3]\n"
     ]
    }
   ],
   "source": [
    "import numpy as np\n",
    "import pandas as pd\n",
    "label=['a','b','c']\n",
    "my_data=[1,2,3]\n",
    "arr=np.array(my_data)\n",
    "d={'a':1,'b':2,'c':3}\n",
    "print (label,my_data,d,arr)"
   ]
  },
  {
   "cell_type": "code",
   "execution_count": 11,
   "metadata": {},
   "outputs": [
    {
     "name": "stdout",
     "output_type": "stream",
     "text": [
      "0    1\n",
      "1    2\n",
      "2    3\n",
      "dtype: int64\n",
      "a    1\n",
      "b    2\n",
      "c    3\n",
      "dtype: int64\n"
     ]
    }
   ],
   "source": [
    "s1=pd.Series(data=my_data)\n",
    "print(s1)\n",
    "s2=pd.Series(data=my_data,index=label)\n",
    "print(s2)"
   ]
  },
  {
   "cell_type": "code",
   "execution_count": 13,
   "metadata": {},
   "outputs": [
    {
     "name": "stdout",
     "output_type": "stream",
     "text": [
      "a    1\n",
      "b    2\n",
      "c    3\n",
      "dtype: int64\n"
     ]
    }
   ],
   "source": [
    "s3=pd.Series(arr, label)\n",
    "print(s3)"
   ]
  },
  {
   "cell_type": "code",
   "execution_count": 14,
   "metadata": {},
   "outputs": [
    {
     "name": "stdout",
     "output_type": "stream",
     "text": [
      "a    1\n",
      "b    2\n",
      "c    3\n",
      "dtype: int64\n"
     ]
    }
   ],
   "source": [
    "s4=pd.Series(d)\n",
    "print(s4)"
   ]
  },
  {
   "cell_type": "code",
   "execution_count": 3,
   "metadata": {},
   "outputs": [],
   "source": [
    "t1=pd.Series(arr)\n",
    "t2=pd.Series(my_data)\n",
    "t3=pd.Series(label)\n",
    "#print(t1)\n",
    "#print(t2)\n",
    "#print(t3)\n"
   ]
  },
  {
   "cell_type": "code",
   "execution_count": 7,
   "metadata": {},
   "outputs": [
    {
     "name": "stdout",
     "output_type": "stream",
     "text": [
      "   W  X  Y  Z\n",
      "A  6  2  5  8\n",
      "B  5  9  2  5\n",
      "C  7  7  1  6\n",
      "D  7  9  1  8\n",
      "E  7  3  4  4\n"
     ]
    }
   ],
   "source": [
    "mat_data=np.random.randint(1,10,20).reshape(5,4)\n",
    "#print(mat_data)\n",
    "row_label=['A','B','C','D','E']\n",
    "col_head = ['W','X','Y','Z']\n",
    "df = pd.DataFrame(data=mat_data, index=row_label, columns=col_head)\n",
    "print(df)"
   ]
  },
  {
   "cell_type": "code",
   "execution_count": 8,
   "metadata": {},
   "outputs": [
    {
     "name": "stdout",
     "output_type": "stream",
     "text": [
      "    a   b\n",
      "X  10  30\n",
      "Y  20  40\n"
     ]
    }
   ],
   "source": [
    "d={'a':[10,20],'b':[30,40]}\n",
    "df1=pd.DataFrame(data=d,index=['X','Y'])\n",
    "print(df1)"
   ]
  },
  {
   "cell_type": "code",
   "execution_count": 12,
   "metadata": {},
   "outputs": [
    {
     "name": "stdout",
     "output_type": "stream",
     "text": [
      "   W  X  Y  Z\n",
      "A  6  2  5  8\n",
      "B  5  9  2  5\n",
      "   W  X  Y  Z\n",
      "D  7  9  1  8\n",
      "E  7  3  4  4\n"
     ]
    }
   ],
   "source": [
    "print (df.head(2))\n",
    "print (df.tail(2))"
   ]
  },
  {
   "cell_type": "code",
   "execution_count": 14,
   "metadata": {},
   "outputs": [
    {
     "data": {
      "text/plain": [
       "A    2\n",
       "B    9\n",
       "C    7\n",
       "D    9\n",
       "E    3\n",
       "Name: X, dtype: int64"
      ]
     },
     "execution_count": 14,
     "metadata": {},
     "output_type": "execute_result"
    }
   ],
   "source": [
    "df['X']"
   ]
  },
  {
   "cell_type": "code",
   "execution_count": 17,
   "metadata": {},
   "outputs": [
    {
     "data": {
      "text/plain": [
       "W    6\n",
       "X    2\n",
       "Y    5\n",
       "Z    8\n",
       "Name: A, dtype: int64"
      ]
     },
     "execution_count": 17,
     "metadata": {},
     "output_type": "execute_result"
    }
   ],
   "source": [
    "df.loc['A']"
   ]
  },
  {
   "cell_type": "code",
   "execution_count": 20,
   "metadata": {},
   "outputs": [
    {
     "name": "stdout",
     "output_type": "stream",
     "text": [
      "   W  X  Y  Z  new\n",
      "A  6  2  5  8    8\n",
      "B  5  9  2  5   14\n",
      "C  7  7  1  6   14\n",
      "D  7  9  1  8   16\n",
      "E  7  3  4  4   10\n"
     ]
    }
   ],
   "source": [
    "df['new']=df['W']+df['X']\n",
    "print(df)"
   ]
  },
  {
   "cell_type": "code",
   "execution_count": 23,
   "metadata": {},
   "outputs": [
    {
     "name": "stdout",
     "output_type": "stream",
     "text": [
      "   W  X  Y  Z  new\n",
      "A  6  2  5  8    8\n",
      "B  5  9  2  5   14\n",
      "C  7  7  1  6   14\n",
      "D  7  9  1  8   16\n"
     ]
    }
   ],
   "source": [
    "df1=df.drop('E')\n",
    "print(df1)"
   ]
  },
  {
   "cell_type": "code",
   "execution_count": null,
   "metadata": {},
   "outputs": [],
   "source": []
  }
 ],
 "metadata": {
  "kernelspec": {
   "display_name": "Python 3",
   "language": "python",
   "name": "python3"
  },
  "language_info": {
   "codemirror_mode": {
    "name": "ipython",
    "version": 3
   },
   "file_extension": ".py",
   "mimetype": "text/x-python",
   "name": "python",
   "nbconvert_exporter": "python",
   "pygments_lexer": "ipython3",
   "version": "3.5.2"
  }
 },
 "nbformat": 4,
 "nbformat_minor": 2
}
