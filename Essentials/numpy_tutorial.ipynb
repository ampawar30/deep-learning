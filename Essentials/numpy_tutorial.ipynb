{
 "cells": [
  {
   "cell_type": "code",
   "execution_count": 2,
   "metadata": {},
   "outputs": [
    {
     "name": "stdout",
     "output_type": "stream",
     "text": [
      "[1 2 3]\n"
     ]
    }
   ],
   "source": [
    "import numpy as np\n",
    "lst=[1,2,3]\n",
    "arr=np.array(lst)\n",
    "print(arr)"
   ]
  },
  {
   "cell_type": "code",
   "execution_count": 5,
   "metadata": {},
   "outputs": [
    {
     "name": "stdout",
     "output_type": "stream",
     "text": [
      "<type 'numpy.ndarray'>\n",
      "<type 'list'>\n"
     ]
    }
   ],
   "source": [
    "print(type(arr))\n",
    "print(type(lst))"
   ]
  },
  {
   "cell_type": "code",
   "execution_count": 6,
   "metadata": {},
   "outputs": [
    {
     "name": "stdout",
     "output_type": "stream",
     "text": [
      "[2 4 6 8]\n",
      "[ 1  4  9 16]\n",
      "[1 1 1 1]\n"
     ]
    }
   ],
   "source": [
    "arr=np.array([1,2,3,4])\n",
    "print(arr+arr)\n",
    "print(arr*arr)\n",
    "print(arr/arr)"
   ]
  },
  {
   "cell_type": "code",
   "execution_count": 10,
   "metadata": {
    "scrolled": true
   },
   "outputs": [
    {
     "name": "stdout",
     "output_type": "stream",
     "text": [
      "[ 0.84147098  0.90929743  0.14112001 -0.7568025  -0.95892427]\n",
      "[0.         1.         1.5849625  2.         2.32192809]\n",
      "[0.         0.30103    0.47712125 0.60205999 0.69897   ]\n",
      "[  2.71828183   7.3890561   20.08553692  54.59815003 148.4131591 ]\n"
     ]
    }
   ],
   "source": [
    "lst1=[i for i in range(1,6)]\n",
    "#print(lst1)\n",
    "arr1=np.array(lst1)\n",
    "print(np.sin(arr1))\n",
    "print(np.log2(arr1))\n",
    "print(np.log10(arr1))\n",
    "print(np.exp(arr1))\n"
   ]
  },
  {
   "cell_type": "code",
   "execution_count": 17,
   "metadata": {},
   "outputs": [
    {
     "name": "stdout",
     "output_type": "stream",
     "text": [
      "[1 2 3 4 5]\n",
      "<type 'numpy.float64'>\n"
     ]
    }
   ],
   "source": [
    "arr2=np.arange(1,6)\n",
    "print(arr2)\n",
    "arr3=np.linspace(1,3,3)\n",
    "print(type(arr3[0]))"
   ]
  },
  {
   "cell_type": "code",
   "execution_count": 24,
   "metadata": {},
   "outputs": [
    {
     "name": "stdout",
     "output_type": "stream",
     "text": [
      "[[1 2 3]\n",
      " [4 5 6]\n",
      " [7 8 9]]\n",
      "('dimension', 2)\n",
      "('shape', (3, 3))\n",
      "('size', 9)\n",
      "('dtype', dtype('int64'))\n"
     ]
    }
   ],
   "source": [
    "lst3=[[1,2,3],[4,5,6],[7,8,9]]\n",
    "mat1=np.array(lst3)\n",
    "print(mat1)\n",
    "print(\"dimension\",mat1.ndim)\n",
    "print(\"shape\",mat1.shape)\n",
    "print(\"size\",mat1.size)\n",
    "print(\"dtype\",mat1.dtype)"
   ]
  },
  {
   "cell_type": "code",
   "execution_count": 31,
   "metadata": {},
   "outputs": [
    {
     "name": "stdout",
     "output_type": "stream",
     "text": [
      "vector [0. 0. 0.]\n",
      "matrix [5. 5. 5. 5. 5.]\n"
     ]
    }
   ],
   "source": [
    "print \"vector\",np.zeros(3)\n",
    "print \"matrix\",5*np.ones(5)"
   ]
  },
  {
   "cell_type": "code",
   "execution_count": 32,
   "metadata": {},
   "outputs": [
    {
     "name": "stdout",
     "output_type": "stream",
     "text": [
      "identity matrix [[1. 0. 0.]\n",
      " [0. 1. 0.]\n",
      " [0. 0. 1.]]\n"
     ]
    }
   ],
   "source": [
    "print \"identity matrix\",np.eye(3)"
   ]
  },
  {
   "cell_type": "code",
   "execution_count": 37,
   "metadata": {},
   "outputs": [
    {
     "name": "stdout",
     "output_type": "stream",
     "text": [
      "random matrix [[3 4 4]\n",
      " [7 0 6]\n",
      " [7 7 9]\n",
      " [9 8 0]]\n"
     ]
    }
   ],
   "source": [
    "print \"random matrix\",np.random.randint(low=0,high=10,size=(4,3))"
   ]
  },
  {
   "cell_type": "code",
   "execution_count": 47,
   "metadata": {},
   "outputs": [
    {
     "name": "stdout",
     "output_type": "stream",
     "text": [
      "(30,)\n",
      "[[21 41 72 76 36]\n",
      " [84 21 97 68 55]\n",
      " [79 92 14 39 45]\n",
      " [84  9 87 63 38]\n",
      " [25  2 39 29 63]\n",
      " [41 77 80 64 74]]\n"
     ]
    }
   ],
   "source": [
    "a=np.random.randint(1,100,30)\n",
    "print a.shape\n",
    "b=a.reshape(2,3,5)\n",
    "#print b\n",
    "c=a.reshape(6,5)\n",
    "print c"
   ]
  },
  {
   "cell_type": "code",
   "execution_count": 50,
   "metadata": {},
   "outputs": [
    {
     "name": "stdout",
     "output_type": "stream",
     "text": [
      "[[1 2]\n",
      " [3 4]\n",
      " [1 1]\n",
      " [1 1]]\n"
     ]
    }
   ],
   "source": [
    "a=np.array([[1,2],[3,4]])\n",
    "b=np.array([[1,1],[1,1]])\n",
    "print  np.vstack((a,b))\n",
    "#print np.hstack((a,b))"
   ]
  },
  {
   "cell_type": "code",
   "execution_count": null,
   "metadata": {},
   "outputs": [],
   "source": []
  }
 ],
 "metadata": {
  "kernelspec": {
   "display_name": "Python 2",
   "language": "python",
   "name": "python2"
  },
  "language_info": {
   "codemirror_mode": {
    "name": "ipython",
    "version": 2
   },
   "file_extension": ".py",
   "mimetype": "text/x-python",
   "name": "python",
   "nbconvert_exporter": "python",
   "pygments_lexer": "ipython2",
   "version": "2.7.12"
  }
 },
 "nbformat": 4,
 "nbformat_minor": 2
}
