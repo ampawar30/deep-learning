{
 "cells": [
  {
   "cell_type": "code",
   "execution_count": 1,
   "metadata": {},
   "outputs": [],
   "source": [
    "import numpy as np\n",
    "import skimage.data \n",
    "from skimage import data, io\n",
    "import numpy\n",
    "import sys\n",
    "import matplotlib\n",
    "import h5py\n",
    "from matplotlib import pyplot as plt\n",
    "import NumPyCNN as numpycnn\n",
    "import skimage.data  \n",
    "\n",
    "import numpy\n",
    "#img = skimage.data.chelsea()  \n",
    "import NumPyCNN as numpycnn\n",
    "\n",
    "#img = skimage.color.rgb2gray(img)"
   ]
  },
  {
   "cell_type": "code",
   "execution_count": 2,
   "metadata": {},
   "outputs": [],
   "source": [
    "def load_dataset():\n",
    "    train_dataset = h5py.File('train_catvnoncat_CNN.h5', \"r\")\n",
    "    train_set_x_orig = np.array(train_dataset[\"train_set_x\"][:]) # your train set features\n",
    "    train_set_y_orig = np.array(train_dataset[\"train_set_y\"][:]) # your train set labels\n",
    "\n",
    "    test_dataset = h5py.File('test_catvnoncat.h5', \"r\")\n",
    "    test_set_x_orig = np.array(test_dataset[\"test_set_x\"][:]) # your test set features\n",
    "    test_set_y_orig = np.array(test_dataset[\"test_set_y\"][:]) # your test set labels\n",
    "\n",
    "    classes = np.array(test_dataset[\"list_classes\"][:]) # the list of classes\n",
    "    train_set_y_orig=train_set_y_orig.reshape(4919,)\n",
    "    train_set_y_orig = train_set_y_orig.reshape((1, train_set_y_orig.shape[0]))\n",
    "    test_set_y_orig = test_set_y_orig.reshape((1, test_set_y_orig.shape[0]))\n",
    "\n",
    "    return train_set_x_orig, train_set_y_orig, test_set_x_orig, test_set_y_orig, classes\n",
    "\n",
    "train_set_x_orig, train_set_y, test_set_x_orig, test_set_y, classes = load_dataset()"
   ]
  },
  {
   "cell_type": "code",
   "execution_count": 42,
   "metadata": {},
   "outputs": [
    {
     "data": {
      "text/plain": [
       "(64, 64)"
      ]
     },
     "execution_count": 42,
     "metadata": {},
     "output_type": "execute_result"
    },
    {
     "data": {
      "image/png": "[encoded data removed]",
      "text/plain": [
       "<Figure size 432x288 with 1 Axes>"
      ]
     },
     "metadata": {},
     "output_type": "display_data"
    }
   ],
   "source": [
    "index=777\n",
    "img=train_set_x_orig[index]\n",
    "#img = skimage.data.chelsea()  \n",
    "#img = skimage.color.rgb2gray(img)\n",
    "io.imshow(img)\n",
    "#plt.show()\n",
    "#img=img.reshape((64,64,2))\n",
    "img.shape"
   ]
  },
  {
   "cell_type": "code",
   "execution_count": 43,
   "metadata": {},
   "outputs": [],
   "source": [
    "l1_filter = numpy.zeros((2,3,3))"
   ]
  },
  {
   "cell_type": "code",
   "execution_count": 44,
   "metadata": {},
   "outputs": [],
   "source": [
    "l1_filter[0, :, :] = numpy.array([[[-1, 0, 1],   \n",
    "                                     [-1, 0, 1],   \n",
    "                                     [-1, 0, 1]]])  \n",
    "l1_filter[1, :, :] = numpy.array([[[1,   1,  1],   \n",
    "                                     [0,   0,  0],   \n",
    "                                     [-1, -1, -1]]]) "
   ]
  },
  {
   "cell_type": "code",
   "execution_count": 45,
   "metadata": {},
   "outputs": [],
   "source": [
    "#l1_feature_map = conv(img, l1_filter) "
   ]
  },
  {
   "cell_type": "code",
   "execution_count": 46,
   "metadata": {},
   "outputs": [],
   "source": [
    "def conv(img, conv_filter):  \n",
    "    if len(img.shape) > 2 or len(conv_filter.shape) > 3: # Check if number of image channels matches the filter depth.  \n",
    "        if img.shape[-1] != conv_filter.shape[-1]:  \n",
    "            print(\"Error: Number of channels in both image and filter must match.\")  \n",
    "            sys.exit()  \n",
    "    if conv_filter.shape[1] != conv_filter.shape[2]: # Check if filter dimensions are equal.  \n",
    "        print('Error: Filter must be a square matrix. I.e. number of rows and columns must match.')  \n",
    "        sys.exit()  \n",
    "    if conv_filter.shape[1]%2==0: # Check if filter diemnsions are odd.  \n",
    "        print('Error: Filter must have an odd size. I.e. number of rows and columns must be odd.')  \n",
    "        sys.exit()  \n",
    "   \n",
    "     # An empty feature map to hold the output of convolving the filter(s) with the image.  \n",
    "    feature_maps = numpy.zeros((img.shape[0]-conv_filter.shape[1]+1,   \n",
    "                                 img.shape[1]-conv_filter.shape[1]+1,   \n",
    "                                 conv_filter.shape[0]))  \n",
    "   \n",
    "     # Convolving the image by the filter(s).  \n",
    "    for filter_num in range(conv_filter.shape[0]):  \n",
    "        print(\"Filter \", filter_num + 1)  \n",
    "        curr_filter = conv_filter[filter_num, :] # getting a filter from the bank.  \n",
    "        if len(curr_filter.shape) > 2:  \n",
    "            conv_map = conv_(img[:, :, 0], curr_filter[:, :, 0]) # Array holding the sum of all feature maps.  \n",
    "            for ch_num in range(1, curr_filter.shape[-1]): # Convolving each channel with the image and summing the results.  \n",
    "                conv_map = conv_map + conv_(img[:, :, ch_num],curr_filter[:, :, ch_num])  \n",
    "        else: # There is just a single channel in the filter.\n",
    "            conv_map = conv_(img, curr_filter)  \n",
    "            feature_maps[:, :, filter_num] = conv_map # Holding feature map with the current filter.\n",
    "    return feature_maps # Returning all feature maps. "
   ]
  },
  {
   "cell_type": "code",
   "execution_count": 47,
   "metadata": {},
   "outputs": [],
   "source": [
    "def conv_(img, conv_filter):  \n",
    "    filter_size = conv_filter.shape[0]  \n",
    "    result = numpy.zeros((img.shape))  \n",
    "     #Looping through the image to apply the convolution operation.  \n",
    "    for r in numpy.uint16(numpy.arange(filter_size/2,   \n",
    "                           img.shape[0]-filter_size/2-2)):  \n",
    "        for c in numpy.uint16(numpy.arange(filter_size/2, img.shape[1]-filter_size/2-2)):  \n",
    "            curr_region = img[r:r+filter_size, c:c+filter_size]  \n",
    "            curr_result = curr_region * conv_filter  \n",
    "            conv_sum = numpy.sum(curr_result) #Summing the result of multiplication.  \n",
    "            result[r, c] = conv_sum #Saving the summation in the convolution layer feature map.  \n",
    "             \n",
    "   #Clipping the outliers of the result matrix.  \n",
    "    final_result = result[numpy.uint16(filter_size/2):result.shape[0]-numpy.uint16(filter_size/2),   \n",
    "                          numpy.uint16(filter_size/2):result.shape[1]-numpy.uint16(filter_size/2)]  \n",
    "    return final_result"
   ]
  },
  {
   "cell_type": "code",
   "execution_count": 48,
   "metadata": {},
   "outputs": [
    {
     "name": "stdout",
     "output_type": "stream",
     "text": [
      "Filter  1\n",
      "Filter  2\n"
     ]
    }
   ],
   "source": [
    "l1_feature_map = conv(img, l1_filter) "
   ]
  },
  {
   "cell_type": "code",
   "execution_count": 49,
   "metadata": {},
   "outputs": [],
   "source": [
    "def relu(feature_map):  \n",
    "    #Preparing the output of the ReLU activation function.  \n",
    "    relu_out = numpy.zeros(feature_map.shape)  \n",
    "    for map_num in range(feature_map.shape[-1]):  \n",
    "        for r in numpy.arange(0,feature_map.shape[0]):  \n",
    "            for c in numpy.arange(0, feature_map.shape[1]):  \n",
    "                relu_out[r, c, map_num] = numpy.max(feature_map[r, c, map_num], 0)"
   ]
  },
  {
   "cell_type": "code",
   "execution_count": 50,
   "metadata": {},
   "outputs": [],
   "source": [
    "l1_feature_map_relu = relu(l1_feature_map)"
   ]
  },
  {
   "cell_type": "code",
   "execution_count": 51,
   "metadata": {},
   "outputs": [],
   "source": [
    "def pooling(feature_map, size=2, stride=2):  \n",
    "    pool_out = numpy.zeros((numpy.uint16((feature_map.shape[0]-size+1)/stride),  \n",
    "                            numpy.uint16((feature_map.shape[1]-size+1)/stride),  \n",
    "                              feature_map.shape[-1]))  \n",
    "    for map_num in range(feature_map.shape[-1]):  \n",
    "        r2 = 0  \n",
    "        for r in numpy.arange(0,feature_map.shape[0]-size-1, stride):  \n",
    "            c2 = 0  \n",
    "            for c in numpy.arange(0, feature_map.shape[1]-size-1, stride):  \n",
    "                pool_out[r2, c2, map_num] = numpy.max(feature_map[r:r+size,  c:c+size])  \n",
    "                c2 = c2 + 1  \n",
    "            r2 = r2 +1  "
   ]
  },
  {
   "cell_type": "code",
   "execution_count": 52,
   "metadata": {},
   "outputs": [
    {
     "name": "stdout",
     "output_type": "stream",
     "text": [
      "\n",
      "**Working with conv layer 1**\n",
      "Filter  1\n",
      "Filter  2\n",
      "\n",
      "**ReLU**\n",
      "\n",
      "**Pooling**\n",
      "**End of conv layer 1**\n",
      "\n"
     ]
    }
   ],
   "source": [
    "print(\"\\n**Working with conv layer 1**\")\n",
    "l1_feature_map = numpycnn.conv(img, l1_filter)\n",
    "print(\"\\n**ReLU**\")\n",
    "l1_feature_map_relu = numpycnn.relu(l1_feature_map)\n",
    "print(\"\\n**Pooling**\")\n",
    "l1_feature_map_relu_pool = numpycnn.pooling(l1_feature_map_relu, 2, 2)\n",
    "print(\"**End of conv layer 1**\\n\")"
   ]
  },
  {
   "cell_type": "code",
   "execution_count": 53,
   "metadata": {},
   "outputs": [
    {
     "name": "stdout",
     "output_type": "stream",
     "text": [
      "\n",
      "**Working with conv layer 2**\n",
      "Filter  1\n",
      "Filter  2\n",
      "Filter  3\n",
      "\n",
      "**ReLU**\n",
      "\n",
      "**Pooling**\n",
      "**End of conv layer 2**\n",
      "\n"
     ]
    }
   ],
   "source": [
    "l2_filter = numpy.random.rand(3, 5, 5, l1_feature_map_relu_pool.shape[-1])\n",
    "print(\"\\n**Working with conv layer 2**\")\n",
    "l2_feature_map = numpycnn.conv(l1_feature_map_relu_pool, l2_filter)\n",
    "print(\"\\n**ReLU**\")\n",
    "l2_feature_map_relu = numpycnn.relu(l2_feature_map)\n",
    "print(\"\\n**Pooling**\")\n",
    "l2_feature_map_relu_pool = numpycnn.pooling(l2_feature_map_relu, 2, 2)\n",
    "print(\"**End of conv layer 2**\\n\")"
   ]
  },
  {
   "cell_type": "code",
   "execution_count": 54,
   "metadata": {},
   "outputs": [
    {
     "name": "stdout",
     "output_type": "stream",
     "text": [
      "\n",
      "**Working with conv layer 3**\n",
      "Filter  1\n",
      "\n",
      "**ReLU**\n",
      "\n",
      "**Pooling**\n",
      "**End of conv layer 3**\n",
      "\n"
     ]
    }
   ],
   "source": [
    "l3_filter = numpy.random.rand(1, 7, 7, l2_feature_map_relu_pool.shape[-1])\n",
    "print(\"\\n**Working with conv layer 3**\")\n",
    "l3_feature_map = numpycnn.conv(l2_feature_map_relu_pool, l3_filter)\n",
    "print(\"\\n**ReLU**\")\n",
    "l3_feature_map_relu = numpycnn.relu(l3_feature_map)\n",
    "print(\"\\n**Pooling**\")\n",
    "l3_feature_map_relu_pool = numpycnn.pooling(l3_feature_map_relu, 2, 2)\n",
    "print(\"**End of conv layer 3**\\n\")"
   ]
  },
  {
   "cell_type": "code",
   "execution_count": 55,
   "metadata": {},
   "outputs": [
    {
     "name": "stdout",
     "output_type": "stream",
     "text": [
      "Filter  1\n",
      "Filter  2\n",
      "Filter  3\n",
      "Filter  1\n"
     ]
    }
   ],
   "source": [
    "l2_feature_map = conv(l1_feature_map_relu_pool, l2_filter)\n",
    "\n",
    "l3_feature_map = conv(l2_feature_map_relu_pool, l3_filter)\n",
    "#print(l3_feature_map)"
   ]
  },
  {
   "cell_type": "code",
   "execution_count": 56,
   "metadata": {},
   "outputs": [
    {
     "data": {
      "text/plain": [
       "<Figure size 432x288 with 0 Axes>"
      ]
     },
     "metadata": {},
     "output_type": "display_data"
    }
   ],
   "source": [
    "fig0, ax0 = matplotlib.pyplot.subplots(nrows=1, ncols=1)\n",
    "ax0.imshow(img).set_cmap(\"gray\")\n",
    "ax0.set_title(\"Input Image\")\n",
    "ax0.get_xaxis().set_ticks([])\n",
    "ax0.get_yaxis().set_ticks([])\n",
    "matplotlib.pyplot.savefig(\"in_img.png\", bbox_inches=\"tight\")\n",
    "matplotlib.pyplot.close(fig0)\n",
    "\n",
    "# Layer 1\n",
    "fig1, ax1 = matplotlib.pyplot.subplots(nrows=3, ncols=2)\n",
    "ax1[0, 0].imshow(l1_feature_map[:, :, 0]).set_cmap(\"gray\")\n",
    "ax1[0, 0].get_xaxis().set_ticks([])\n",
    "ax1[0, 0].get_yaxis().set_ticks([])\n",
    "ax1[0, 0].set_title(\"L1-Map1\")\n",
    "\n",
    "ax1[0, 1].imshow(l1_feature_map[:, :, 1]).set_cmap(\"gray\")\n",
    "ax1[0, 1].get_xaxis().set_ticks([])\n",
    "ax1[0, 1].get_yaxis().set_ticks([])\n",
    "ax1[0, 1].set_title(\"L1-Map2\")\n",
    "\n",
    "ax1[1, 0].imshow(l1_feature_map_relu[:, :, 0]).set_cmap(\"gray\")\n",
    "ax1[1, 0].get_xaxis().set_ticks([])\n",
    "ax1[1, 0].get_yaxis().set_ticks([])\n",
    "ax1[1, 0].set_title(\"L1-Map1ReLU\")\n",
    "\n",
    "ax1[1, 1].imshow(l1_feature_map_relu[:, :, 1]).set_cmap(\"gray\")\n",
    "ax1[1, 1].get_xaxis().set_ticks([])\n",
    "ax1[1, 1].get_yaxis().set_ticks([])\n",
    "ax1[1, 1].set_title(\"L1-Map2ReLU\")\n",
    "\n",
    "ax1[2, 0].imshow(l1_feature_map_relu_pool[:, :, 0]).set_cmap(\"gray\")\n",
    "ax1[2, 0].get_xaxis().set_ticks([])\n",
    "ax1[2, 0].get_yaxis().set_ticks([])\n",
    "ax1[2, 0].set_title(\"L1-Map1ReLUPool\")\n",
    "\n",
    "ax1[2, 1].imshow(l1_feature_map_relu_pool[:, :, 1]).set_cmap(\"gray\")\n",
    "ax1[2, 0].get_xaxis().set_ticks([])\n",
    "ax1[2, 0].get_yaxis().set_ticks([])\n",
    "ax1[2, 1].set_title(\"L1-Map2ReLUPool\")\n",
    "\n",
    "matplotlib.pyplot.savefig(\"L1.png\", bbox_inches=\"tight\")\n",
    "matplotlib.pyplot.close(fig1)\n",
    "\n",
    "# Layer 2\n",
    "fig2, ax2 = matplotlib.pyplot.subplots(nrows=3, ncols=3)\n",
    "ax2[0, 0].imshow(l2_feature_map[:, :, 0]).set_cmap(\"gray\")\n",
    "ax2[0, 0].get_xaxis().set_ticks([])\n",
    "ax2[0, 0].get_yaxis().set_ticks([])\n",
    "ax2[0, 0].set_title(\"L2-Map1\")\n",
    "matplotlib.pyplot.savefig(\"ab.png\")#, bbox_inches=\"tight\")\n",
    "matplotlib.pyplot.close(fig2)\n",
    "ax2[0, 1].imshow(l2_feature_map[:, :, 1]).set_cmap(\"gray\")\n",
    "ax2[0, 1].get_xaxis().set_ticks([])\n",
    "ax2[0, 1].get_yaxis().set_ticks([])\n",
    "ax2[0, 1].set_title(\"L2-Map2\")\n",
    "\n",
    "ax2[0, 2].imshow(l2_feature_map[:, :, 2]).set_cmap(\"gray\")\n",
    "ax2[0, 2].get_xaxis().set_ticks([])\n",
    "ax2[0, 2].get_yaxis().set_ticks([])\n",
    "ax2[0, 2].set_title(\"L2-Map3\")\n",
    "\n",
    "ax2[1, 0].imshow(l2_feature_map_relu[:, :, 0]).set_cmap(\"gray\")\n",
    "ax2[1, 0].get_xaxis().set_ticks([])\n",
    "ax2[1, 0].get_yaxis().set_ticks([])\n",
    "ax2[1, 0].set_title(\"L2-Map1ReLU\")\n",
    "\n",
    "ax2[1, 1].imshow(l2_feature_map_relu[:, :, 1]).set_cmap(\"gray\")\n",
    "ax2[1, 1].get_xaxis().set_ticks([])\n",
    "ax2[1, 1].get_yaxis().set_ticks([])\n",
    "ax2[1, 1].set_title(\"L2-Map2ReLU\")\n",
    "\n",
    "ax2[1, 2].imshow(l2_feature_map_relu[:, :, 2]).set_cmap(\"gray\")\n",
    "ax2[1, 2].get_xaxis().set_ticks([])\n",
    "ax2[1, 2].get_yaxis().set_ticks([])\n",
    "ax2[1, 2].set_title(\"L2-Map3ReLU\")\n",
    "\n",
    "ax2[2, 0].imshow(l2_feature_map_relu_pool[:, :, 0]).set_cmap(\"gray\")\n",
    "ax2[2, 0].get_xaxis().set_ticks([])\n",
    "ax2[2, 0].get_yaxis().set_ticks([])\n",
    "ax2[2, 0].set_title(\"L2-Map1ReLUPool\")\n",
    "\n",
    "ax2[2, 1].imshow(l2_feature_map_relu_pool[:, :, 1]).set_cmap(\"gray\")\n",
    "ax2[2, 1].get_xaxis().set_ticks([])\n",
    "ax2[2, 1].get_yaxis().set_ticks([])\n",
    "ax2[2, 1].set_title(\"L2-Map2ReLUPool\")\n",
    "\n",
    "ax2[2, 2].imshow(l2_feature_map_relu_pool[:, :, 2]).set_cmap(\"gray\")\n",
    "ax2[2, 2].get_xaxis().set_ticks([])\n",
    "ax2[2, 2].get_yaxis().set_ticks([])\n",
    "ax2[2, 2].set_title(\"L2-Map3ReLUPool\")\n",
    "\n",
    "matplotlib.pyplot.savefig(\"L2.png\", bbox_inches=\"tight\")\n",
    "matplotlib.pyplot.close(fig2)\n",
    "\n",
    "# Layer 3\n",
    "fig3, ax3 = matplotlib.pyplot.subplots(nrows=1, ncols=3)\n",
    "ax3[0].imshow(l3_feature_map[:, :, 0]).set_cmap(\"gray\")\n",
    "ax3[0].get_xaxis().set_ticks([])\n",
    "ax3[0].get_yaxis().set_ticks([])\n",
    "ax3[0].set_title(\"L3-Map1\")\n",
    "\n",
    "ax3[1].imshow(l3_feature_map_relu[:, :, 0]).set_cmap(\"gray\")\n",
    "ax3[1].get_xaxis().set_ticks([])\n",
    "ax3[1].get_yaxis().set_ticks([])\n",
    "ax3[1].set_title(\"L3-Map1ReLU\")\n",
    "\n",
    "ax3[2].imshow(l3_feature_map_relu_pool[:, :, 0]).set_cmap(\"gray\")\n",
    "ax3[2].get_xaxis().set_ticks([])\n",
    "ax3[2].get_yaxis().set_ticks([])\n",
    "ax3[2].set_title(\"L3-Map1ReLUPool\")\n",
    "\n",
    "matplotlib.pyplot.savefig(\"L3.png\", bbox_inches=\"tight\")\n",
    "matplotlib.pyplot.close(fig3)"
   ]
  },
  {
   "cell_type": "code",
   "execution_count": 57,
   "metadata": {},
   "outputs": [
    {
     "data": {
      "text/plain": [
       "Text(0.5, 1.0, 'L3-Map1ReLUPool')"
      ]
     },
     "execution_count": 57,
     "metadata": {},
     "output_type": "execute_result"
    },
    {
     "data": {
      "image/png": "[encoded data removed]",
      "text/plain": [
       "<Figure size 432x288 with 1 Axes>"
      ]
     },
     "metadata": {},
     "output_type": "display_data"
    },
    {
     "data": {
      "image/png": "[encoded data removed]",
      "text/plain": [
       "<Figure size 432x288 with 6 Axes>"
      ]
     },
     "metadata": {},
     "output_type": "display_data"
    },
    {
     "data": {
      "image/png": "[encoded data removed]",
      "text/plain": [
       "<Figure size 432x288 with 3 Axes>"
      ]
     },
     "metadata": {},
     "output_type": "display_data"
    }
   ],
   "source": [
    "fig0, ax0 = matplotlib.pyplot.subplots(nrows=1, ncols=1)  \n",
    "ax0.imshow(img).set_cmap(\"gray\")  \n",
    "ax0.set_title(\"Input Image\")  \n",
    "ax0.get_xaxis().set_ticks([])  \n",
    "ax0.get_yaxis().set_ticks([])  \n",
    "matplotlib.pyplot.savefig(\"in_img.png\", bbox_inches=\"tight\")  \n",
    "#matplotlib.pyplot.close(fig0)  \n",
    "  \n",
    "# Layer 1  \n",
    "fig1, ax1 = matplotlib.pyplot.subplots(nrows=3, ncols=2)  \n",
    "ax1[0, 0].imshow(l1_feature_map[:, :, 0]).set_cmap(\"gray\")  \n",
    "ax1[0, 0].get_xaxis().set_ticks([])  \n",
    "ax1[0, 0].get_yaxis().set_ticks([])  \n",
    "ax1[0, 0].set_title(\"L1-Map1\")  \n",
    "  \n",
    "ax1[0, 1].imshow(l1_feature_map[:, :, 1]).set_cmap(\"gray\")  \n",
    "ax1[0, 1].get_xaxis().set_ticks([])  \n",
    "ax1[0, 1].get_yaxis().set_ticks([])  \n",
    "ax1[0, 1].set_title(\"L1-Map2\")  \n",
    "  \n",
    "ax1[1, 0].imshow(l1_feature_map_relu[:, :, 0]).set_cmap(\"gray\")  \n",
    "ax1[1, 0].get_xaxis().set_ticks([])  \n",
    "ax1[1, 0].get_yaxis().set_ticks([])  \n",
    "ax1[1, 0].set_title(\"L1-Map1ReLU\")  \n",
    "  \n",
    "ax1[1, 1].imshow(l1_feature_map_relu[:, :, 1]).set_cmap(\"gray\")  \n",
    "ax1[1, 1].get_xaxis().set_ticks([])  \n",
    "ax1[1, 1].get_yaxis().set_ticks([])  \n",
    "ax1[1, 1].set_title(\"L1-Map2ReLU\")  \n",
    "  \n",
    "ax1[2, 0].imshow(l1_feature_map_relu_pool[:, :, 0]).set_cmap(\"gray\")  \n",
    "ax1[2, 0].get_xaxis().set_ticks([])  \n",
    "ax1[2, 0].get_yaxis().set_ticks([])  \n",
    "ax1[2, 0].set_title(\"L1-Map1ReLUPool\")  \n",
    "  \n",
    "ax1[2, 1].imshow(l1_feature_map_relu_pool[:, :, 1]).set_cmap(\"gray\")  \n",
    "ax1[2, 0].get_xaxis().set_ticks([])  \n",
    "ax1[2, 0].get_yaxis().set_ticks([])  \n",
    "ax1[2, 1].set_title(\"L1-Map2ReLUPool\")  \n",
    "  \n",
    "#matplotlib.pyplot.savefig(\"L1.png\", bbox_inches=\"tight\")  \n",
    "#matplotlib.pyplot.close(fig1)  \n",
    "  \n",
    "# Layer 2  \n",
    "fig2, ax2 = matplotlib.pyplot.subplots(nrows=3, ncols=3)  \n",
    "ax2[0, 0].imshow(l2_feature_map[:, :, 0]).set_cmap(\"gray\")  \n",
    "ax2[0, 0].get_xaxis().set_ticks([])  \n",
    "ax2[0, 0].get_yaxis().set_ticks([])  \n",
    "ax2[0, 0].set_title(\"L2-Map1\")  \n",
    "matplotlib.pyplot.savefig(\"L1.png\", bbox_inches=\"tight\")  \n",
    "matplotlib.pyplot.close(fig2)  \n",
    "ax2[0, 1].imshow(l2_feature_map[:, :, 1]).set_cmap(\"gray\")  \n",
    "ax2[0, 1].get_xaxis().set_ticks([])  \n",
    "ax2[0, 1].get_yaxis().set_ticks([])  \n",
    "ax2[0, 1].set_title(\"L2-Map2\")  \n",
    "  \n",
    "ax2[0, 2].imshow(l2_feature_map[:, :, 2]).set_cmap(\"gray\")  \n",
    "ax2[0, 2].get_xaxis().set_ticks([])  \n",
    "ax2[0, 2].get_yaxis().set_ticks([])  \n",
    "ax2[0, 2].set_title(\"L2-Map3\")  \n",
    "  \n",
    "ax2[1, 0].imshow(l2_feature_map_relu[:, :, 0]).set_cmap(\"gray\")  \n",
    "ax2[1, 0].get_xaxis().set_ticks([])  \n",
    "ax2[1, 0].get_yaxis().set_ticks([])  \n",
    "ax2[1, 0].set_title(\"L2-Map1ReLU\")  \n",
    "  \n",
    "ax2[1, 1].imshow(l2_feature_map_relu[:, :, 1]).set_cmap(\"gray\")  \n",
    "ax2[1, 1].get_xaxis().set_ticks([])  \n",
    "ax2[1, 1].get_yaxis().set_ticks([])  \n",
    "ax2[1, 1].set_title(\"L2-Map2ReLU\")  \n",
    "  \n",
    "ax2[1, 2].imshow(l2_feature_map_relu[:, :, 2]).set_cmap(\"gray\")  \n",
    "ax2[1, 2].get_xaxis().set_ticks([])  \n",
    "ax2[1, 2].get_yaxis().set_ticks([])  \n",
    "ax2[1, 2].set_title(\"L2-Map3ReLU\")  \n",
    "  \n",
    "ax2[2, 0].imshow(l2_feature_map_relu_pool[:, :, 0]).set_cmap(\"gray\")  \n",
    "ax2[2, 0].get_xaxis().set_ticks([])  \n",
    "ax2[2, 0].get_yaxis().set_ticks([])  \n",
    "ax2[2, 0].set_title(\"L2-Map1ReLUPool\")  \n",
    "\n",
    "matplotlib.pyplot.savefig(\"in_img1.png\", bbox_inches=\"tight\")  \n",
    "matplotlib.pyplot.close(fig2)  \n",
    "\n",
    "    \n",
    "ax2[2, 1].imshow(l2_feature_map_relu_pool[:, :, 1]).set_cmap(\"gray\")  \n",
    "ax2[2, 1].get_xaxis().set_ticks([])  \n",
    "ax2[2, 1].get_yaxis().set_ticks([])  \n",
    "ax2[2, 1].set_title(\"L2-Map2ReLUPool\")  \n",
    "  \n",
    "ax2[2, 2].imshow(l2_feature_map_relu_pool[:, :, 2]).set_cmap(\"gray\")  \n",
    "ax2[2, 2].get_xaxis().set_ticks([])  \n",
    "ax2[2, 2].get_yaxis().set_ticks([])  \n",
    "ax2[2, 2].set_title(\"L2-Map3ReLUPool\")  \n",
    "  \n",
    "matplotlib.pyplot.savefig(\"L2.png\", bbox_inches=\"tight\")  \n",
    "matplotlib.pyplot.close(fig2)  \n",
    "  \n",
    "# Layer 3  \n",
    "fig3, ax3 = matplotlib.pyplot.subplots(nrows=1, ncols=3)  \n",
    "ax3[0].imshow(l3_feature_map[:, :, 0]).set_cmap(\"gray\")  \n",
    "ax3[0].get_xaxis().set_ticks([])  \n",
    "ax3[0].get_yaxis().set_ticks([])  \n",
    "ax3[0].set_title(\"L3-Map1\")  \n",
    "  \n",
    "ax3[1].imshow(l3_feature_map_relu[:, :, 0]).set_cmap(\"gray\")  \n",
    "ax3[1].get_xaxis().set_ticks([])  \n",
    "ax3[1].get_yaxis().set_ticks([])  \n",
    "ax3[1].set_title(\"L3-Map1ReLU\")  \n",
    "  \n",
    "ax3[2].imshow(l3_feature_map_relu_pool[:, :, 0]).set_cmap(\"gray\")  \n",
    "ax3[2].get_xaxis().set_ticks([])  \n",
    "ax3[2].get_yaxis().set_ticks([])  \n",
    "ax3[2].set_title(\"L3-Map1ReLUPool\")"
   ]
  },
  {
   "cell_type": "code",
   "execution_count": null,
   "metadata": {},
   "outputs": [],
   "source": []
  }
 ],
 "metadata": {
  "kernelspec": {
   "display_name": "Python 3",
   "language": "python",
   "name": "python3"
  },
  "language_info": {
   "codemirror_mode": {
    "name": "ipython",
    "version": 3
   },
   "file_extension": ".py",
   "mimetype": "text/x-python",
   "name": "python",
   "nbconvert_exporter": "python",
   "pygments_lexer": "ipython3",
   "version": "3.5.2"
  }
 },
 "nbformat": 4,
 "nbformat_minor": 2
}
